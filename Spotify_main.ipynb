{
  "nbformat": 4,
  "nbformat_minor": 0,
  "metadata": {
    "colab": {
      "name": "Spotify_main.ipynb",
      "provenance": [],
      "collapsed_sections": []
    },
    "kernelspec": {
      "name": "python3",
      "display_name": "Python 3"
    }
  },
  "cells": [
    {
      "cell_type": "code",
      "metadata": {
        "id": "P5fET3x7iAre",
        "colab_type": "code",
        "outputId": "4fcf410e-38d5-4c69-ad1a-35307d4c3473",
        "colab": {
          "base_uri": "https://localhost:8080/",
          "height": 118
        }
      },
      "source": [
        "# Installing spotipy - You have to do it everytime if you are running the file in Colabs\n",
        "! pip install spotipy "
      ],
      "execution_count": 3,
      "outputs": [
        {
          "output_type": "stream",
          "text": [
            "Requirement already satisfied: spotipy in /usr/local/lib/python3.6/dist-packages (2.4.4)\n",
            "Requirement already satisfied: requests>=1.0 in /usr/local/lib/python3.6/dist-packages (from spotipy) (2.21.0)\n",
            "Requirement already satisfied: idna<2.9,>=2.5 in /usr/local/lib/python3.6/dist-packages (from requests>=1.0->spotipy) (2.8)\n",
            "Requirement already satisfied: certifi>=2017.4.17 in /usr/local/lib/python3.6/dist-packages (from requests>=1.0->spotipy) (2019.9.11)\n",
            "Requirement already satisfied: urllib3<1.25,>=1.21.1 in /usr/local/lib/python3.6/dist-packages (from requests>=1.0->spotipy) (1.24.3)\n",
            "Requirement already satisfied: chardet<3.1.0,>=3.0.2 in /usr/local/lib/python3.6/dist-packages (from requests>=1.0->spotipy) (3.0.4)\n"
          ],
          "name": "stdout"
        }
      ]
    },
    {
      "cell_type": "code",
      "metadata": {
        "id": "4DQBd8T0iqQi",
        "colab_type": "code",
        "outputId": "491b0bff-6e36-4a8e-db4e-6d8f458c21a4",
        "colab": {
          "base_uri": "https://localhost:8080/",
          "height": 34
        }
      },
      "source": [
        "from google.colab import drive\n",
        "drive.mount('/content/drive')"
      ],
      "execution_count": 4,
      "outputs": [
        {
          "output_type": "stream",
          "text": [
            "Drive already mounted at /content/drive; to attempt to forcibly remount, call drive.mount(\"/content/drive\", force_remount=True).\n"
          ],
          "name": "stdout"
        }
      ]
    },
    {
      "cell_type": "code",
      "metadata": {
        "id": "lz1kJvpGh4mm",
        "colab_type": "code",
        "colab": {}
      },
      "source": [
        "import pandas as pd\n",
        "import spotipy\n",
        "from spotipy.oauth2 import SpotifyClientCredentials\n",
        "import json\n",
        "import os\n",
        "import sys\n",
        "import pickle\n",
        "import requests"
      ],
      "execution_count": 0,
      "outputs": []
    },
    {
      "cell_type": "code",
      "metadata": {
        "id": "Mn3U6AGaihOd",
        "colab_type": "code",
        "colab": {}
      },
      "source": [
        "def search_get_playlist_user(search_key,search_type = 'playlist'):\n",
        "\n",
        "    ''' Gets User_id's from playlists extracted from a search key of choice\n",
        "\n",
        "        Params : searck_key = Any key word you want to search with , E.g Blues,EDM,Romantic\n",
        "                 search_type = The type of results we wantr to extract,E.g Playlists,Albums,Artists\n",
        "\n",
        "        Returns : Created a file with all the unique user_id's extracted from the playlists which was extracted from the search    \n",
        "    '''\n",
        "    grant_type = 'client_credentials'\n",
        "    body_params = {'grant_type' : grant_type}\n",
        "    url='https://accounts.spotify.com/api/token'\n",
        "    response = requests.post(url, data=body_params, auth = (Client_ID,Client_Secret)) \n",
        "    token_raw = json.loads(response.text)\n",
        "    token = token_raw[\"access_token\"]\n",
        "    headers = {\"Authorization\": \"Bearer {}\".format(token),} \n",
        "\n",
        "    if os.path.exists('/content/drive/My Drive/spotify/users_id.txt'):\n",
        "        with open(\"/content/drive/My Drive/spotify/users_id.txt\", \"rb\") as fp: \n",
        "          old_data = pickle.load(fp)\n",
        "          print('exists : ',len(old_data))\n",
        "\n",
        "    else :\n",
        "      old_data = ['spotify']\n",
        "\n",
        "    lst = []\n",
        "    \n",
        "\n",
        "    url= \"https://api.spotify.com/v1/search?q={}&type={}&limit=1&offset={}\".format(search_key,search_type,0)\n",
        "    r = requests.get(url, headers=headers)\n",
        "    # print(json.dumps(r.json()['playlists']['items'][0]['owner']['id'],indent=4))\n",
        "    total = int(r.json()['playlists']['total'])\n",
        "    print(total)\n",
        "\n",
        "    for i in range(0,total,50):\n",
        "      url= \"https://api.spotify.com/v1/search?q={}&type={}&limit=50&offset={}\".format(search_key,search_type,i)\n",
        "      r = requests.get(url, headers=headers)\n",
        "      try:\n",
        "        for item in r.json()['playlists']['items']:\n",
        "          lst.append(item['owner']['id'])\n",
        "      except Exception as e:\n",
        "        pass\n",
        "\n",
        "      pro_prec = float(i/total*100)\n",
        "      sys.stdout.write(\"\\r\") # return to start of line\n",
        "      sys.stdout.flush() \n",
        "      sys.stdout.write('Completed : {} %'.format(round(pro_prec,4)))\n",
        "\n",
        "\n",
        "    print('\\n',len(set(lst+list(old_data))))\n",
        "    with open(\"/content/drive/My Drive/spotify/users_id.txt\", \"wb\") as fp:\n",
        "        pickle.dump(set(lst+list(old_data)),fp)\n"
      ],
      "execution_count": 0,
      "outputs": []
    },
    {
      "cell_type": "code",
      "metadata": {
        "id": "mVR3BujtkUO1",
        "colab_type": "code",
        "colab": {}
      },
      "source": [
        "words_to_search = [\"Jazz\",\"Tamil\",\"English\",\"Hindi\",\"party\",\"Metal\",\"Blue\",\"Summer\",\"Rain\",\"Snow\",\"EDM\"]\n",
        "for i in words_to_search[10]:\n",
        "  #search_get_playlist_user(i,'playlist')\n",
        "  import time\n",
        "  #time.sleep(60)"
      ],
      "execution_count": 0,
      "outputs": []
    },
    {
      "cell_type": "code",
      "metadata": {
        "id": "xyQmkzVUiIb8",
        "colab_type": "code",
        "colab": {}
      },
      "source": [
        "def make_playlist_list(username,name):\n",
        "\n",
        "    ''' Getting all Platlists for a give username '''\n",
        "\n",
        "    Client_ID =  '9da29360dfe24b50bb9cf07341588d95'\n",
        "    Client_Secret = '6869a24ff6c342ffb5f6409b758fe998'\n",
        "    client_credentials_manager = SpotifyClientCredentials(Client_ID,Client_Secret)\n",
        "    sp = spotipy.Spotify(client_credentials_manager=client_credentials_manager)\n",
        "\n",
        "    total = sp.user_playlists(username, limit=1, offset=0)['total']\n",
        "\n",
        "    if os.path.exists(\"/content/drive/My Drive/spotify/playlists/\"+name):\n",
        "        with open(\"/content/drive/My Drive/spotify/playlists/\"+name, \"rb\") as fp: \n",
        "            old_data = pickle.load(fp)\n",
        "            #print('Exists :',len(old_data))\n",
        "    else : \n",
        "        old_data = []\n",
        "\n",
        "    lst = old_data\n",
        "\n",
        "    for i in range(0, total, 50):\n",
        "        a = sp.user_playlists(username, limit=50, offset=i)\n",
        "        playlist_id = (a['items'])\n",
        "        for j in range(0,len(playlist_id)):\n",
        "            x = playlist_id[j]['id']\n",
        "            ## print(x)\n",
        "            lst.append(x)\n",
        "    with open(\"/content/drive/My Drive/spotify/playlists/\"+name, \"wb\") as fp:   #Pickling\n",
        "        pickle.dump(lst, fp)\n",
        "    \n",
        "    #print('Number of Playlists id extracted :',len(lst))\n",
        "    del lst\n"
      ],
      "execution_count": 0,
      "outputs": []
    },
    {
      "cell_type": "code",
      "metadata": {
        "id": "NUZaLK3wiUVh",
        "colab_type": "code",
        "outputId": "586d1543-b545-483a-ba26-548af31e9c47",
        "colab": {
          "base_uri": "https://localhost:8080/",
          "height": 50
        }
      },
      "source": [
        "with open(\"/content/drive/My Drive/spotify/users_id.txt\", \"rb\") as fp: \n",
        "  usernames = list(pickle.load(fp))\n",
        "for i,username in enumerate(usernames):\n",
        "  if i>= 28690 :\n",
        "    prog_prec = i/len(usernames) * 100\n",
        "    sys.stdout.flush() \n",
        "    sys.stdout.write(\"\\r\") # return to start of line\n",
        "    sys.stdout.flush() \n",
        "    sys.stdout.write('Completed : {}% and number {} '.format(round(prog_prec,4),i))\n",
        "    name = 'playlist_{}.txt'.format(i//1000)\n",
        "    try:\n",
        "      make_playlist_list(username,name)\n",
        "    except KeyError:\n",
        "      pass\n",
        "    except Exception as e:\n",
        "      if e.http_status == 429:\n",
        "        print('API Rate Limit is excited ,Go sleep and hit the API after few hours')\n",
        "        break;\n",
        "      else:\n",
        "        print('Error :',e.http_status ,' at ', i)\n",
        "        pass"
      ],
      "execution_count": 0,
      "outputs": [
        {
          "output_type": "stream",
          "text": [
            "Completed : 34.0553% and number 33430 Error : 400  at  33430\n",
            "Completed : 34.4332% and number 33801 "
          ],
          "name": "stdout"
        }
      ]
    },
    {
      "cell_type": "code",
      "metadata": {
        "id": "O8Ooxgp-ibDH",
        "colab_type": "code",
        "colab": {}
      },
      "source": [
        "def track_ids(playlist_id,name):\n",
        "  Client_ID =  '9da29360dfe24b50bb9cf07341588d95'\n",
        "  Client_Secret = '6869a24ff6c342ffb5f6409b758fe998'\n",
        "  grant_type = 'client_credentials'\n",
        "  body_params = {'grant_type' : grant_type}\n",
        "  url='https://accounts.spotify.com/api/token'\n",
        "  response = requests.post(url, data=body_params, auth = (Client_ID,Client_Secret)) \n",
        "  token_raw = json.loads(response.text)\n",
        "  token = token_raw[\"access_token\"]\n",
        "  headers = {\"Authorization\": \"Bearer {}\".format(token),} \n",
        "\n",
        "  if os.path.exists('/content/drive/My Drive/spotify/tracks/'+ name):\n",
        "        with open(\"/content/drive/My Drive/spotify/tracks/\" + name, \"rb\") as fp: \n",
        "          old_data = pickle.load(fp)\n",
        "          #print('exists : ',len(old_data))\n",
        "  else :\n",
        "    old_data = ['spotify']\n",
        "    \n",
        "  lst = []\n",
        "  url = 'https://api.spotify.com/v1/playlists/{}/tracks?fields=total&limit=1&offset={}'.format(playlist_id,0)\n",
        "  r = requests.get(url, headers=headers)\n",
        "  total = r.json()['total']\n",
        "\n",
        "  for i in range(0,total,50):\n",
        "      url= \"https://api.spotify.com/v1/playlists/{}/tracks?fields=items&limit=50&offset={}\".format(playlist_id,i)\n",
        "      try:\n",
        "        r = requests.get(url, headers=headers)\n",
        "        items = r.json()['items']\n",
        "        for item in items:\n",
        "          lst.append(item['track']['id'])\n",
        "      except Exception as e:\n",
        "        print('Error :',e ,' at ', name)\n",
        "        pass\n",
        "\n",
        "  with open(\"/content/drive/My Drive/spotify/tracks/\" + name, \"wb\") as fp:\n",
        "    pickle.dump(set(lst+list(old_data)),fp)\n",
        "\n"
      ],
      "execution_count": 0,
      "outputs": []
    },
    {
      "cell_type": "code",
      "metadata": {
        "id": "SxR4szQxieb0",
        "colab_type": "code",
        "colab": {
          "base_uri": "https://localhost:8080/",
          "height": 17
        },
        "outputId": "416ce206-300c-4809-d3d8-643f1ff1a38d"
      },
      "source": [
        "for p_num in range(0,6): \n",
        "  with open(\"/content/drive/My Drive/spotify/playlist_{}.txt\".format(p_num), \"rb\") as fp: \n",
        "    playlists = list(pickle.load(fp))\n",
        "    for i,playlist in enumerate(playlists):\n",
        "      if i>=0:\n",
        "        prog_prec = i/len(usernames) * 100\n",
        "        sys.stdout.flush() \n",
        "        sys.stdout.write(\"\\r\") # return to start of line\n",
        "        sys.stdout.flush() \n",
        "        sys.stdout.write('Completed Playlist : {}% ,playList file : {} and number : {} '.format(round(prog_prec,4),p_num,i))\n",
        "        name = 'track_id_{}'.format(i//10000)\n",
        "        #track_ids(playlist,name)\n",
        "  break;\n",
        "\n",
        "\n",
        "\n"
      ],
      "execution_count": 63,
      "outputs": [
        {
          "output_type": "stream",
          "text": [
            ""
          ],
          "name": "stdout"
        }
      ]
    },
    {
      "cell_type": "code",
      "metadata": {
        "id": "FmlL2gYPigP7",
        "colab_type": "code",
        "outputId": "29f3060a-3615-4ccc-8236-a4727d010454",
        "colab": {
          "base_uri": "https://localhost:8080/",
          "height": 34
        }
      },
      "source": [
        "def get_songs_details():\n",
        "\n",
        "    with open('/content/drive/My Drive/spotify/track_id.txt',\"rb\") as fp:\n",
        "        b = pickle.load(fp)\n",
        "    print('Number of unique Songs id extracted : ',len(set(b)))\n",
        "\n",
        "get_songs_details()"
      ],
      "execution_count": 14,
      "outputs": [
        {
          "output_type": "stream",
          "text": [
            "Number of unique Songs id extracted :  66556\n"
          ],
          "name": "stdout"
        }
      ]
    },
    {
      "cell_type": "code",
      "metadata": {
        "id": "IFm38xsW7wab",
        "colab_type": "code",
        "colab": {}
      },
      "source": [
        ""
      ],
      "execution_count": 0,
      "outputs": []
    }
  ]
}